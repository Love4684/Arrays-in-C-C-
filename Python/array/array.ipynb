{
  "nbformat": 4,
  "nbformat_minor": 0,
  "metadata": {
    "colab": {
      "name": "array.ipynb",
      "provenance": []
    },
    "kernelspec": {
      "name": "python3",
      "display_name": "Python 3"
    },
    "language_info": {
      "name": "python"
    }
  },
  "cells": [
    {
      "cell_type": "code",
      "metadata": {
        "id": "aZE7ixk_SVDy"
      },
      "source": [
        "exp = [2200,2350,2600,2130,2190]"
      ],
      "execution_count": 14,
      "outputs": []
    },
    {
      "cell_type": "code",
      "metadata": {
        "colab": {
          "base_uri": "https://localhost:8080/"
        },
        "id": "_sAJX31rSWTd",
        "outputId": "a9bad6a5-d717-478e-e183-6b1bd5c6dd7f"
      },
      "source": [
        "exp.append(1980)\n",
        "exp"
      ],
      "execution_count": 15,
      "outputs": [
        {
          "output_type": "execute_result",
          "data": {
            "text/plain": [
              "[2200, 2350, 2600, 2130, 2190, 1980]"
            ]
          },
          "metadata": {
            "tags": []
          },
          "execution_count": 15
        }
      ]
    },
    {
      "cell_type": "code",
      "metadata": {
        "colab": {
          "base_uri": "https://localhost:8080/"
        },
        "id": "hq24o9M6SkD-",
        "outputId": "a42af8be-575c-47f2-fe43-788848de558c"
      },
      "source": [
        "len(exp)"
      ],
      "execution_count": 16,
      "outputs": [
        {
          "output_type": "execute_result",
          "data": {
            "text/plain": [
              "6"
            ]
          },
          "metadata": {
            "tags": []
          },
          "execution_count": 16
        }
      ]
    },
    {
      "cell_type": "code",
      "metadata": {
        "id": "iouukGdESqB8"
      },
      "source": [
        "exp.remove(2350)"
      ],
      "execution_count": 17,
      "outputs": []
    },
    {
      "cell_type": "code",
      "metadata": {
        "colab": {
          "base_uri": "https://localhost:8080/"
        },
        "id": "GFkKFFhaTxRp",
        "outputId": "571d816c-a804-4fc4-ed77-38a351746aef"
      },
      "source": [
        "exp"
      ],
      "execution_count": 18,
      "outputs": [
        {
          "output_type": "execute_result",
          "data": {
            "text/plain": [
              "[2200, 2600, 2130, 2190, 1980]"
            ]
          },
          "metadata": {
            "tags": []
          },
          "execution_count": 18
        }
      ]
    },
    {
      "cell_type": "code",
      "metadata": {
        "id": "wRflFK2KT1Al"
      },
      "source": [
        "exp.insert(3, 2500)"
      ],
      "execution_count": 19,
      "outputs": []
    },
    {
      "cell_type": "code",
      "metadata": {
        "colab": {
          "base_uri": "https://localhost:8080/"
        },
        "id": "r1tTWwVhUXXA",
        "outputId": "40032a87-5e44-42c6-fd86-af0aa93c74c5"
      },
      "source": [
        "exp"
      ],
      "execution_count": 20,
      "outputs": [
        {
          "output_type": "execute_result",
          "data": {
            "text/plain": [
              "[2200, 2600, 2130, 2500, 2190, 1980]"
            ]
          },
          "metadata": {
            "tags": []
          },
          "execution_count": 20
        }
      ]
    },
    {
      "cell_type": "code",
      "metadata": {
        "id": "nB7dHjLlUZ4d"
      },
      "source": [
        "exp[1:3] = [2000]"
      ],
      "execution_count": 23,
      "outputs": []
    },
    {
      "cell_type": "code",
      "metadata": {
        "colab": {
          "base_uri": "https://localhost:8080/"
        },
        "id": "aDN4_fPVVC2I",
        "outputId": "ae8549bb-6539-4e60-df58-9ceb84fed3de"
      },
      "source": [
        "exp"
      ],
      "execution_count": 24,
      "outputs": [
        {
          "output_type": "execute_result",
          "data": {
            "text/plain": [
              "[2200, 2000, 2500, 2190, 1980]"
            ]
          },
          "metadata": {
            "tags": []
          },
          "execution_count": 24
        }
      ]
    },
    {
      "cell_type": "code",
      "metadata": {
        "id": "bbMEawiAVb_E"
      },
      "source": [
        "exp.sort()"
      ],
      "execution_count": 25,
      "outputs": []
    },
    {
      "cell_type": "code",
      "metadata": {
        "colab": {
          "base_uri": "https://localhost:8080/"
        },
        "id": "yu1QPdZ4Vjvy",
        "outputId": "1b916a4e-df2f-48cc-c88a-15ba8b95cebf"
      },
      "source": [
        "exp"
      ],
      "execution_count": 26,
      "outputs": [
        {
          "output_type": "execute_result",
          "data": {
            "text/plain": [
              "[1980, 2000, 2190, 2200, 2500]"
            ]
          },
          "metadata": {
            "tags": []
          },
          "execution_count": 26
        }
      ]
    },
    {
      "cell_type": "code",
      "metadata": {
        "id": "Y-l5sQT6Vle1"
      },
      "source": [
        "#Create a list of all odd numbers between 1 and a max number. Max number is something you need to take from a user using input() function\n"
      ],
      "execution_count": 27,
      "outputs": []
    },
    {
      "cell_type": "code",
      "metadata": {
        "colab": {
          "base_uri": "https://localhost:8080/"
        },
        "id": "jkT4zJN8YY4d",
        "outputId": "b33cafb5-f573-48d7-fdad-87d39356f8bf"
      },
      "source": [
        "max = int(input())\n",
        "odd_number = []\n",
        "for i in range(2,max):\n",
        "  if i%2 == 1 :\n",
        "    odd_number.append(i)\n",
        "\n",
        "print(odd_number)"
      ],
      "execution_count": 32,
      "outputs": [
        {
          "output_type": "stream",
          "text": [
            "11\n",
            "[3, 5, 7, 9]\n"
          ],
          "name": "stdout"
        }
      ]
    },
    {
      "cell_type": "code",
      "metadata": {
        "id": "Yw4rdyHNZShv"
      },
      "source": [
        ""
      ],
      "execution_count": null,
      "outputs": []
    }
  ]
}